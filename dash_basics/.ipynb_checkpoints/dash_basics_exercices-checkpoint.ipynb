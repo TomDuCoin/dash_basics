{
 "cells": [
  {
   "cell_type": "markdown",
   "id": "f0334bb0",
   "metadata": {},
   "source": [
    "# Dashboard avec Dash"
   ]
  },
  {
   "cell_type": "markdown",
   "id": "9c66a7d2",
   "metadata": {},
   "source": [
    "Bienvenue dans ce nouveau worksop Dash organisé par Tom FULLER et Anselin BARADAT-GARGOMINY. Le but de ce workshop est de donner aux plus novices en python quelque bases sur la manipulation de matrices en python avec la librairie Pandas et sur la création de dashboards avec la librairie Dash."
   ]
  },
  {
   "cell_type": "markdown",
   "id": "36396c55",
   "metadata": {},
   "source": [
    "Pour les amateurs de cryptos, ce workshop vous permettra de confirmer vos croyances sur certaines tendances entre certaines crypto monnaies, dans ce workshop nous étudirons particulièrement la tendance du cours de l'Etherum avec celle du Bitcoin.\n"
   ]
  },
  {
   "cell_type": "markdown",
   "id": "f682dce7",
   "metadata": {},
   "source": [
    "## Instructions"
   ]
  },
  {
   "cell_type": "markdown",
   "id": "b3375a61",
   "metadata": {},
   "source": [
    "<ul>\n",
    "    <li> Vous utiliserez Python3 </li>\n",
    "    <li> Pour la manipulation de matrice vous utiliserez exclusivement Pandas </li>\n",
    "    <li> Pour plotter vos graphes vous utiliserez exclusivement Dash </li>\n",
    "<ul>"
   ]
  },
  {
   "cell_type": "markdown",
   "id": "986c6d35",
   "metadata": {},
   "source": [
    "## A la fin de ce workshop, vous saurez:"
   ]
  },
  {
   "cell_type": "markdown",
   "id": "5de3e099",
   "metadata": {},
   "source": [
    "<ul>\n",
    "    <li> Faire un dashboard avec Dash </li>\n",
    "    <li> Une meilleure compréhension de l'incroyable éfficacitée des calcules matriciels </li>\n",
    "    <li> Un aperçu des cours des crypto monnaies et des tendances de ces dernières </li>\n",
    "<ul>\n",
    "    "
   ]
  },
  {
   "cell_type": "markdown",
   "id": "e5efe0a9",
   "metadata": {},
   "source": [
    "## A propos des Dataframes Pandas"
   ]
  },
  {
   "cell_type": "markdown",
   "id": "df4679d8",
   "metadata": {},
   "source": [
    "Pandas est une librairie python qui permet de manipuler facilement des données à analyser:\n",
    "manipuler des tableaux de données avec des étiquettes de variables (colonnes) et d'individus (lignes). Ces tableaux sont appelés DataFrames, similaires aux dataframes sous R.\n",
    "    on peut facilement lire et écrire ces dataframes à partir ou vers un fichier tabulé.\n",
    "    on peut faciler tracer des graphes à partir de ces DataFrames grâce à matplotlib.\n",
    "\n",
    "Pour utiliser pandas : <code>import pandas as pd</code>"
   ]
  },
  {
   "cell_type": "markdown",
   "id": "b907ceea",
   "metadata": {},
   "source": [
    "### Un petit échauffement"
   ]
  },
  {
   "cell_type": "code",
   "execution_count": 7,
   "id": "f286196b",
   "metadata": {
    "scrolled": true
   },
   "outputs": [
    {
     "name": "stdout",
     "output_type": "stream",
     "text": [
      "[*********************100%***********************]  1 of 1 completed\n"
     ]
    }
   ],
   "source": [
    "import pandas as pd\n",
    "### On importe Yahoo finance pour \n",
    "### récupérer un Dataframe du cours du bitcoin des dernières 22h toutes\n",
    "### les 15 minutes\n",
    "import yfinance as yf\n",
    "\n",
    "data = yf.download(tickers='BTC-USD', period = '22h', interval = '15m')"
   ]
  },
  {
   "cell_type": "code",
   "execution_count": 9,
   "id": "db893752",
   "metadata": {},
   "outputs": [
    {
     "data": {
      "text/plain": [
       "pandas.core.frame.DataFrame"
      ]
     },
     "execution_count": 9,
     "metadata": {},
     "output_type": "execute_result"
    }
   ],
   "source": [
    "data.head(5)\n",
    "type(data)"
   ]
  },
  {
   "cell_type": "code",
   "execution_count": 10,
   "id": "5ab5f109",
   "metadata": {},
   "outputs": [
    {
     "data": {
      "text/html": [
       "<div>\n",
       "<style scoped>\n",
       "    .dataframe tbody tr th:only-of-type {\n",
       "        vertical-align: middle;\n",
       "    }\n",
       "\n",
       "    .dataframe tbody tr th {\n",
       "        vertical-align: top;\n",
       "    }\n",
       "\n",
       "    .dataframe thead th {\n",
       "        text-align: right;\n",
       "    }\n",
       "</style>\n",
       "<table border=\"1\" class=\"dataframe\">\n",
       "  <thead>\n",
       "    <tr style=\"text-align: right;\">\n",
       "      <th></th>\n",
       "      <th>Open</th>\n",
       "      <th>High</th>\n",
       "      <th>Low</th>\n",
       "      <th>Close</th>\n",
       "      <th>Adj Close</th>\n",
       "      <th>Volume</th>\n",
       "    </tr>\n",
       "    <tr>\n",
       "      <th>Datetime</th>\n",
       "      <th></th>\n",
       "      <th></th>\n",
       "      <th></th>\n",
       "      <th></th>\n",
       "      <th></th>\n",
       "      <th></th>\n",
       "    </tr>\n",
       "  </thead>\n",
       "  <tbody>\n",
       "    <tr>\n",
       "      <th>2022-04-17 00:45:00+00:00</th>\n",
       "      <td>40409.031250</td>\n",
       "      <td>40409.031250</td>\n",
       "      <td>40399.550781</td>\n",
       "      <td>40399.550781</td>\n",
       "      <td>40399.550781</td>\n",
       "      <td>0</td>\n",
       "    </tr>\n",
       "    <tr>\n",
       "      <th>2022-04-17 01:00:00+00:00</th>\n",
       "      <td>40399.835938</td>\n",
       "      <td>40399.835938</td>\n",
       "      <td>40393.207031</td>\n",
       "      <td>40398.460938</td>\n",
       "      <td>40398.460938</td>\n",
       "      <td>28610560</td>\n",
       "    </tr>\n",
       "    <tr>\n",
       "      <th>2022-04-17 01:15:00+00:00</th>\n",
       "      <td>40392.992188</td>\n",
       "      <td>40394.238281</td>\n",
       "      <td>40366.429688</td>\n",
       "      <td>40394.238281</td>\n",
       "      <td>40394.238281</td>\n",
       "      <td>26215424</td>\n",
       "    </tr>\n",
       "    <tr>\n",
       "      <th>2022-04-17 01:30:00+00:00</th>\n",
       "      <td>40398.300781</td>\n",
       "      <td>40404.820312</td>\n",
       "      <td>40389.597656</td>\n",
       "      <td>40404.820312</td>\n",
       "      <td>40404.820312</td>\n",
       "      <td>28633088</td>\n",
       "    </tr>\n",
       "    <tr>\n",
       "      <th>2022-04-17 01:45:00+00:00</th>\n",
       "      <td>40409.507812</td>\n",
       "      <td>40416.261719</td>\n",
       "      <td>40404.683594</td>\n",
       "      <td>40407.894531</td>\n",
       "      <td>40407.894531</td>\n",
       "      <td>32258048</td>\n",
       "    </tr>\n",
       "  </tbody>\n",
       "</table>\n",
       "</div>"
      ],
      "text/plain": [
       "                                   Open          High           Low  \\\n",
       "Datetime                                                              \n",
       "2022-04-17 00:45:00+00:00  40409.031250  40409.031250  40399.550781   \n",
       "2022-04-17 01:00:00+00:00  40399.835938  40399.835938  40393.207031   \n",
       "2022-04-17 01:15:00+00:00  40392.992188  40394.238281  40366.429688   \n",
       "2022-04-17 01:30:00+00:00  40398.300781  40404.820312  40389.597656   \n",
       "2022-04-17 01:45:00+00:00  40409.507812  40416.261719  40404.683594   \n",
       "\n",
       "                                  Close     Adj Close    Volume  \n",
       "Datetime                                                         \n",
       "2022-04-17 00:45:00+00:00  40399.550781  40399.550781         0  \n",
       "2022-04-17 01:00:00+00:00  40398.460938  40398.460938  28610560  \n",
       "2022-04-17 01:15:00+00:00  40394.238281  40394.238281  26215424  \n",
       "2022-04-17 01:30:00+00:00  40404.820312  40404.820312  28633088  \n",
       "2022-04-17 01:45:00+00:00  40407.894531  40407.894531  32258048  "
      ]
     },
     "execution_count": 10,
     "metadata": {},
     "output_type": "execute_result"
    }
   ],
   "source": [
    "### la méthode head vous permez des voir les 5 premières lignes\n",
    "### d'un Dataframe\n",
    "data.head(5)"
   ]
  },
  {
   "cell_type": "markdown",
   "id": "65cacbb9",
   "metadata": {},
   "source": [
    "### petite explication sur les différentes colonnes du Dataframe\n",
    "L'open correspond à la valeur de l'action lorsque on regarde pour la première fois sa valeur. Le close correspond donc à la dernière valeur enregistré. Le High est la plus haute valeur atteinte par l'action et le low donc l'inverse. Adj Close est la valeur ajusté d'une action lorsque des Corporates actions surviennent mais ici ça ne nous interresse pas. Le volume est le nombre d'action achetable sur le marché."
   ]
  },
  {
   "cell_type": "code",
   "execution_count": 12,
   "id": "bc72b5b1",
   "metadata": {},
   "outputs": [
    {
     "data": {
      "text/plain": [
       "Datetime\n",
       "2022-04-17 00:45:00+00:00    40409.031250\n",
       "2022-04-17 01:00:00+00:00    40399.835938\n",
       "2022-04-17 01:15:00+00:00    40394.238281\n",
       "2022-04-17 01:30:00+00:00    40404.820312\n",
       "2022-04-17 01:45:00+00:00    40416.261719\n",
       "                                 ...     \n",
       "2022-04-17 21:00:00+00:00    40298.242188\n",
       "2022-04-17 21:15:00+00:00    40228.277344\n",
       "2022-04-17 21:30:00+00:00    40245.468750\n",
       "2022-04-17 21:45:00+00:00    40242.332031\n",
       "2022-04-17 21:54:00+00:00    40217.945312\n",
       "Name: High, Length: 86, dtype: float64"
      ]
     },
     "execution_count": 12,
     "metadata": {},
     "output_type": "execute_result"
    }
   ],
   "source": [
    "### pour récupérer la colonne High on utilise\n",
    "### la méthode .loc[row, column]\n",
    "data.loc[:, 'High']"
   ]
  },
  {
   "cell_type": "code",
   "execution_count": 13,
   "id": "e8845974",
   "metadata": {},
   "outputs": [
    {
     "data": {
      "text/plain": [
       "Datetime\n",
       "2022-04-17 00:45:00+00:00    40409.031250\n",
       "2022-04-17 01:00:00+00:00    40399.835938\n",
       "2022-04-17 01:15:00+00:00    40394.238281\n",
       "2022-04-17 01:30:00+00:00    40404.820312\n",
       "2022-04-17 01:45:00+00:00    40416.261719\n",
       "                                 ...     \n",
       "2022-04-17 21:00:00+00:00    40298.242188\n",
       "2022-04-17 21:15:00+00:00    40228.277344\n",
       "2022-04-17 21:30:00+00:00    40245.468750\n",
       "2022-04-17 21:45:00+00:00    40242.332031\n",
       "2022-04-17 21:54:00+00:00    40217.945312\n",
       "Name: High, Length: 86, dtype: float64"
      ]
     },
     "execution_count": 13,
     "metadata": {},
     "output_type": "execute_result"
    }
   ],
   "source": [
    "### ici vous avez 2 manières différentes\n",
    "### de faire la même chose que au dessus\n",
    "data.High\n",
    "data.iloc[:, 1]"
   ]
  },
  {
   "cell_type": "markdown",
   "id": "506f67f7",
   "metadata": {},
   "source": [
    "### Passons maintenant à un peu de pratiques"
   ]
  },
  {
   "cell_type": "markdown",
   "id": "b86e6422",
   "metadata": {},
   "source": [
    "Vous devez calculer la différence entre le close et l'open pour chaque ligne"
   ]
  },
  {
   "cell_type": "code",
   "execution_count": null,
   "id": "7440c827",
   "metadata": {},
   "outputs": [],
   "source": [
    "### à vous :)\n",
    "diff = ### votre code"
   ]
  },
  {
   "cell_type": "markdown",
   "id": "693b8b6d",
   "metadata": {},
   "source": [
    "### Dash maintenant\n",
    "Dash est un framework Python permettant de développer des applications web pour la visualisation des données. Il est construit sur des technologies matures et largement déployées:\n",
    "\n",
    "<ul>\n",
    "    <li> Flask est un micro framework web Python </li>\n",
    "    <li> Plotly est une bibliothèque graphique basée sur D3.js, la référence en matière de data visualisation </li>\n",
    "    <li> React. est une bibliothèque JavaScript développée par Facebook </li>\n",
    "</ul>\n",
    "\n",
    "source: https://perso.esiee.fr/~courivad/python_viz/03-dash.html"
   ]
  },
  {
   "cell_type": "markdown",
   "id": "dff1f2b9",
   "metadata": {},
   "source": [
    "### Coder votre dashboard\n",
    "Pour vous aider à réaliser les prochaines tâches, vous pouvez vous aider du fichier app.py au root du repository et de la documention sur internet: https://dash.plotly.com/\n",
    "\n",
    "Les exercices sont à faire de votre côté dans un fichier python."
   ]
  },
  {
   "cell_type": "markdown",
   "id": "d3a14fef",
   "metadata": {},
   "source": [
    "### Task 1\n",
    "\n",
    "#### Les callback\n",
    " functions that are automatically called by Dash whenever an input component's property changes, in order to update some property in another component (the output).\n",
    "\n",
    "Vous devez créer un dashboard qui contiendra:\n",
    "<ul>\n",
    "\t<li> Un component Input </li>\n",
    "\t<li> Un component Text </li>\n",
    "</ul>\n",
    "\n",
    "Lorsque un utilisateur entre une valeur dans l'Input, le component text devra prendre la valeur de l'input."
   ]
  },
  {
   "cell_type": "markdown",
   "id": "95f8dbf3",
   "metadata": {},
   "source": [
    "### Task 2\n",
    "Vous devez créer un dashboard qui contiendra:\n",
    "<ul>\n",
    "\t<li> Un component DataTable </li>\n",
    "</ul>\n",
    "\n",
    "Vous devez afficher un graphique entierement rempli de zéros mais avec le background du tableau en rouge et la couleur du text des valeurs dans les cellues en bleu."
   ]
  },
  {
   "cell_type": "markdown",
   "id": "c4bd8012",
   "metadata": {},
   "source": [
    "### Task 3\n",
    "Vous devez créer un dashboard qui contiendra:\n",
    "<ul>\n",
    "\t<li> Un component Graph </li>\n",
    "\t<li> Un component DropDown </li>\n",
    "</ul>\n",
    "\n",
    "Le DropDown contiendra les noms des colonnes de votre dataframe,\n",
    "et lorsque un utilisateur selectionne une colonne, le graph doit plotter cette derniere."
   ]
  }
 ],
 "metadata": {
  "kernelspec": {
   "display_name": "Python 3 (ipykernel)",
   "language": "python",
   "name": "python3"
  },
  "language_info": {
   "codemirror_mode": {
    "name": "ipython",
    "version": 3
   },
   "file_extension": ".py",
   "mimetype": "text/x-python",
   "name": "python",
   "nbconvert_exporter": "python",
   "pygments_lexer": "ipython3",
   "version": "3.8.10"
  }
 },
 "nbformat": 4,
 "nbformat_minor": 5
}
